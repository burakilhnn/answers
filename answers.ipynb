{
 "cells": [
  {
   "cell_type": "code",
   "execution_count": 86,
   "id": "15f2b327",
   "metadata": {},
   "outputs": [],
   "source": [
    "import numpy as np\n",
    "import pandas as pd\n",
    "import matplotlib.pyplot as plt\n",
    "import seaborn as sns"
   ]
  },
  {
   "cell_type": "code",
   "execution_count": 87,
   "id": "87893a67",
   "metadata": {},
   "outputs": [],
   "source": [
    "data = pd.read_csv('country_vaccination_stats.csv')"
   ]
  },
  {
   "cell_type": "code",
   "execution_count": 88,
   "id": "d8c519ed",
   "metadata": {},
   "outputs": [
    {
     "data": {
      "text/html": [
       "<div>\n",
       "<style scoped>\n",
       "    .dataframe tbody tr th:only-of-type {\n",
       "        vertical-align: middle;\n",
       "    }\n",
       "\n",
       "    .dataframe tbody tr th {\n",
       "        vertical-align: top;\n",
       "    }\n",
       "\n",
       "    .dataframe thead th {\n",
       "        text-align: right;\n",
       "    }\n",
       "</style>\n",
       "<table border=\"1\" class=\"dataframe\">\n",
       "  <thead>\n",
       "    <tr style=\"text-align: right;\">\n",
       "      <th></th>\n",
       "      <th>country</th>\n",
       "      <th>date</th>\n",
       "      <th>daily_vaccinations</th>\n",
       "      <th>vaccines</th>\n",
       "    </tr>\n",
       "  </thead>\n",
       "  <tbody>\n",
       "    <tr>\n",
       "      <th>0</th>\n",
       "      <td>Argentina</td>\n",
       "      <td>12/29/2020</td>\n",
       "      <td>NaN</td>\n",
       "      <td>Sputnik V</td>\n",
       "    </tr>\n",
       "    <tr>\n",
       "      <th>1</th>\n",
       "      <td>Argentina</td>\n",
       "      <td>12/30/2020</td>\n",
       "      <td>15656.0</td>\n",
       "      <td>Sputnik V</td>\n",
       "    </tr>\n",
       "    <tr>\n",
       "      <th>2</th>\n",
       "      <td>Argentina</td>\n",
       "      <td>12/31/2020</td>\n",
       "      <td>15656.0</td>\n",
       "      <td>Sputnik V</td>\n",
       "    </tr>\n",
       "    <tr>\n",
       "      <th>3</th>\n",
       "      <td>Argentina</td>\n",
       "      <td>1/1/2021</td>\n",
       "      <td>11070.0</td>\n",
       "      <td>Sputnik V</td>\n",
       "    </tr>\n",
       "    <tr>\n",
       "      <th>4</th>\n",
       "      <td>Argentina</td>\n",
       "      <td>1/2/2021</td>\n",
       "      <td>8776.0</td>\n",
       "      <td>Sputnik V</td>\n",
       "    </tr>\n",
       "    <tr>\n",
       "      <th>...</th>\n",
       "      <td>...</td>\n",
       "      <td>...</td>\n",
       "      <td>...</td>\n",
       "      <td>...</td>\n",
       "    </tr>\n",
       "    <tr>\n",
       "      <th>1497</th>\n",
       "      <td>Wales</td>\n",
       "      <td>1/20/2021</td>\n",
       "      <td>11105.0</td>\n",
       "      <td>Oxford/AstraZeneca, Pfizer/BioNTech</td>\n",
       "    </tr>\n",
       "    <tr>\n",
       "      <th>1498</th>\n",
       "      <td>Wales</td>\n",
       "      <td>1/21/2021</td>\n",
       "      <td>12318.0</td>\n",
       "      <td>Oxford/AstraZeneca, Pfizer/BioNTech</td>\n",
       "    </tr>\n",
       "    <tr>\n",
       "      <th>1499</th>\n",
       "      <td>Wales</td>\n",
       "      <td>1/22/2021</td>\n",
       "      <td>15148.0</td>\n",
       "      <td>Oxford/AstraZeneca, Pfizer/BioNTech</td>\n",
       "    </tr>\n",
       "    <tr>\n",
       "      <th>1500</th>\n",
       "      <td>Wales</td>\n",
       "      <td>1/23/2021</td>\n",
       "      <td>17371.0</td>\n",
       "      <td>Oxford/AstraZeneca, Pfizer/BioNTech</td>\n",
       "    </tr>\n",
       "    <tr>\n",
       "      <th>1501</th>\n",
       "      <td>Wales</td>\n",
       "      <td>1/24/2021</td>\n",
       "      <td>17063.0</td>\n",
       "      <td>Oxford/AstraZeneca, Pfizer/BioNTech</td>\n",
       "    </tr>\n",
       "  </tbody>\n",
       "</table>\n",
       "<p>1502 rows × 4 columns</p>\n",
       "</div>"
      ],
      "text/plain": [
       "        country        date  daily_vaccinations  \\\n",
       "0     Argentina  12/29/2020                 NaN   \n",
       "1     Argentina  12/30/2020             15656.0   \n",
       "2     Argentina  12/31/2020             15656.0   \n",
       "3     Argentina    1/1/2021             11070.0   \n",
       "4     Argentina    1/2/2021              8776.0   \n",
       "...         ...         ...                 ...   \n",
       "1497      Wales   1/20/2021             11105.0   \n",
       "1498      Wales   1/21/2021             12318.0   \n",
       "1499      Wales   1/22/2021             15148.0   \n",
       "1500      Wales   1/23/2021             17371.0   \n",
       "1501      Wales   1/24/2021             17063.0   \n",
       "\n",
       "                                 vaccines  \n",
       "0                               Sputnik V  \n",
       "1                               Sputnik V  \n",
       "2                               Sputnik V  \n",
       "3                               Sputnik V  \n",
       "4                               Sputnik V  \n",
       "...                                   ...  \n",
       "1497  Oxford/AstraZeneca, Pfizer/BioNTech  \n",
       "1498  Oxford/AstraZeneca, Pfizer/BioNTech  \n",
       "1499  Oxford/AstraZeneca, Pfizer/BioNTech  \n",
       "1500  Oxford/AstraZeneca, Pfizer/BioNTech  \n",
       "1501  Oxford/AstraZeneca, Pfizer/BioNTech  \n",
       "\n",
       "[1502 rows x 4 columns]"
      ]
     },
     "execution_count": 88,
     "metadata": {},
     "output_type": "execute_result"
    }
   ],
   "source": [
    "data"
   ]
  },
  {
   "cell_type": "markdown",
   "id": "d2f3de73",
   "metadata": {},
   "source": [
    "### 4) Code Implementation Task: Implement code to fill the missing data (impute) in daily_vaccinations column per country with the minimum daily vaccination number of relevant countries.  \n",
    "Note: If a country does not have any valid vaccination number yet, fill it with “0” (zero)."
   ]
  },
  {
   "cell_type": "code",
   "execution_count": 89,
   "id": "a2814c33",
   "metadata": {},
   "outputs": [],
   "source": [
    "def fill_na_values(country):\n",
    "    min_value = data[data['country']==country]['daily_vaccinations'].min()\n",
    "    return min_value"
   ]
  },
  {
   "cell_type": "code",
   "execution_count": 96,
   "id": "956d81c9",
   "metadata": {},
   "outputs": [],
   "source": [
    "data['daily_vaccinations'] = data.apply(lambda row: fill_na_values(row['country']) if row['daily_vaccinations'] != row['daily_vaccinations'] else row['daily_vaccinations'],axis=1)"
   ]
  },
  {
   "cell_type": "code",
   "execution_count": 109,
   "id": "9621c70c",
   "metadata": {
    "scrolled": true
   },
   "outputs": [
    {
     "data": {
      "text/html": [
       "<div>\n",
       "<style scoped>\n",
       "    .dataframe tbody tr th:only-of-type {\n",
       "        vertical-align: middle;\n",
       "    }\n",
       "\n",
       "    .dataframe tbody tr th {\n",
       "        vertical-align: top;\n",
       "    }\n",
       "\n",
       "    .dataframe thead th {\n",
       "        text-align: right;\n",
       "    }\n",
       "</style>\n",
       "<table border=\"1\" class=\"dataframe\">\n",
       "  <thead>\n",
       "    <tr style=\"text-align: right;\">\n",
       "      <th></th>\n",
       "      <th>country</th>\n",
       "      <th>date</th>\n",
       "      <th>daily_vaccinations</th>\n",
       "      <th>vaccines</th>\n",
       "    </tr>\n",
       "  </thead>\n",
       "  <tbody>\n",
       "    <tr>\n",
       "      <th>750</th>\n",
       "      <td>Kuwait</td>\n",
       "      <td>12/28/2020</td>\n",
       "      <td>NaN</td>\n",
       "      <td>Pfizer/BioNTech</td>\n",
       "    </tr>\n",
       "  </tbody>\n",
       "</table>\n",
       "</div>"
      ],
      "text/plain": [
       "    country        date  daily_vaccinations         vaccines\n",
       "750  Kuwait  12/28/2020                 NaN  Pfizer/BioNTech"
      ]
     },
     "execution_count": 109,
     "metadata": {},
     "output_type": "execute_result"
    }
   ],
   "source": [
    "data[data['daily_vaccinations'].isna()]"
   ]
  },
  {
   "cell_type": "code",
   "execution_count": 110,
   "id": "c31a8ce1",
   "metadata": {},
   "outputs": [],
   "source": [
    "data['daily_vaccinations'].fillna(0,inplace=True)"
   ]
  },
  {
   "cell_type": "markdown",
   "id": "1c75a5df",
   "metadata": {},
   "source": [
    "### 5) Code Implementation Task: Implement code to list the top-3 countries with highest median daily vaccination numbers by considering missing values imputed version of dataset."
   ]
  },
  {
   "cell_type": "code",
   "execution_count": 99,
   "id": "ec93f375",
   "metadata": {},
   "outputs": [
    {
     "data": {
      "text/plain": [
       "country\n",
       "United States    378253.0\n",
       "China            276786.0\n",
       "India            173922.0\n",
       "Name: daily_vaccinations, dtype: float64"
      ]
     },
     "execution_count": 99,
     "metadata": {},
     "output_type": "execute_result"
    }
   ],
   "source": [
    "data.groupby('country')['daily_vaccinations'].median().nlargest(3)"
   ]
  },
  {
   "cell_type": "markdown",
   "id": "7f8b584b",
   "metadata": {},
   "source": [
    "### 6) What is the number of total vaccinations done on 1/6/2021 (MM/DD/YYYY) by considering missing values imputed version of dataset?"
   ]
  },
  {
   "cell_type": "code",
   "execution_count": 105,
   "id": "f7ba0820",
   "metadata": {},
   "outputs": [
    {
     "data": {
      "text/plain": [
       "1485255.0"
      ]
     },
     "execution_count": 105,
     "metadata": {},
     "output_type": "execute_result"
    }
   ],
   "source": [
    "data[data['date'] == '1/6/2021']['daily_vaccinations'].sum()"
   ]
  },
  {
   "cell_type": "markdown",
   "id": "2451b84a",
   "metadata": {},
   "source": [
    "### 7) Code Implementation Task: If this list would be a database table, please provide SQL query to fill in the missing daily vaccination numbers with discrete median of country as similar to question a.  \n",
    "Note: This time SQL equivalent is requested, and imputation value is median of each country, not minimum. Please remember filling countries with zero if they do not have any valid daily_vaccination records like Kuwait."
   ]
  },
  {
   "cell_type": "code",
   "execution_count": null,
   "id": "77062934",
   "metadata": {},
   "outputs": [],
   "source": [
    "SELECT (country, \n",
    "       daily_vaccinations, \n",
    "       PERCENTILE_CONT(0.5) \n",
    "         WITHIN GROUP (ORDER BY daily_vaccinations) OVER ( \n",
    "           PARTITION BY country) AS median_value)\n",
    "FROM data;\n",
    "\n",
    "\n",
    "UPDATE\n",
    "    data\n",
    "SET \n",
    "  daily_vaccinations = CASE WHEN daily_vaccinations IS NULL THEN median_value ELSE daily_vaccinations END;\n"
   ]
  },
  {
   "cell_type": "code",
   "execution_count": null,
   "id": "b066e60e",
   "metadata": {},
   "outputs": [],
   "source": []
  },
  {
   "cell_type": "code",
   "execution_count": null,
   "id": "8c61bdaf",
   "metadata": {},
   "outputs": [],
   "source": []
  }
 ],
 "metadata": {
  "kernelspec": {
   "display_name": "Python 3 (ipykernel)",
   "language": "python",
   "name": "python3"
  },
  "language_info": {
   "codemirror_mode": {
    "name": "ipython",
    "version": 3
   },
   "file_extension": ".py",
   "mimetype": "text/x-python",
   "name": "python",
   "nbconvert_exporter": "python",
   "pygments_lexer": "ipython3",
   "version": "3.9.7"
  }
 },
 "nbformat": 4,
 "nbformat_minor": 5
}
